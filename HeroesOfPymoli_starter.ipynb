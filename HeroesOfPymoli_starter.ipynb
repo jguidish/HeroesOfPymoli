{
 "cells": [
  {
   "cell_type": "markdown",
   "metadata": {},
   "source": [
    "### Note\n",
    "* Instructions have been included for each segment. You do not have to follow them exactly, but they are included to help you think through the steps."
   ]
  },
  {
   "cell_type": "markdown",
   "metadata": {},
   "source": [
    "House of Pymoli Data Analysis\n",
    "\n",
    "-Total purchase count was 780, but there are only 576. There are many repeat buyers.\n",
    "\n",
    "-This game has a large percentage of male players, around 84%.\n",
    "\n",
    "-Largest age group this game has is inbetween ages 20-24, at around 45%."
   ]
  },
  {
   "cell_type": "code",
   "execution_count": 40,
   "metadata": {},
   "outputs": [
    {
     "data": {
      "text/html": [
       "<div>\n",
       "<style scoped>\n",
       "    .dataframe tbody tr th:only-of-type {\n",
       "        vertical-align: middle;\n",
       "    }\n",
       "\n",
       "    .dataframe tbody tr th {\n",
       "        vertical-align: top;\n",
       "    }\n",
       "\n",
       "    .dataframe thead th {\n",
       "        text-align: right;\n",
       "    }\n",
       "</style>\n",
       "<table border=\"1\" class=\"dataframe\">\n",
       "  <thead>\n",
       "    <tr style=\"text-align: right;\">\n",
       "      <th></th>\n",
       "      <th>Purchase ID</th>\n",
       "      <th>SN</th>\n",
       "      <th>Age</th>\n",
       "      <th>Gender</th>\n",
       "      <th>Item ID</th>\n",
       "      <th>Item Name</th>\n",
       "      <th>Price</th>\n",
       "    </tr>\n",
       "  </thead>\n",
       "  <tbody>\n",
       "    <tr>\n",
       "      <td>0</td>\n",
       "      <td>0</td>\n",
       "      <td>Lisim78</td>\n",
       "      <td>20</td>\n",
       "      <td>Male</td>\n",
       "      <td>108</td>\n",
       "      <td>Extraction, Quickblade Of Trembling Hands</td>\n",
       "      <td>3.53</td>\n",
       "    </tr>\n",
       "    <tr>\n",
       "      <td>1</td>\n",
       "      <td>1</td>\n",
       "      <td>Lisovynya38</td>\n",
       "      <td>40</td>\n",
       "      <td>Male</td>\n",
       "      <td>143</td>\n",
       "      <td>Frenzied Scimitar</td>\n",
       "      <td>1.56</td>\n",
       "    </tr>\n",
       "    <tr>\n",
       "      <td>2</td>\n",
       "      <td>2</td>\n",
       "      <td>Ithergue48</td>\n",
       "      <td>24</td>\n",
       "      <td>Male</td>\n",
       "      <td>92</td>\n",
       "      <td>Final Critic</td>\n",
       "      <td>4.88</td>\n",
       "    </tr>\n",
       "    <tr>\n",
       "      <td>3</td>\n",
       "      <td>3</td>\n",
       "      <td>Chamassasya86</td>\n",
       "      <td>24</td>\n",
       "      <td>Male</td>\n",
       "      <td>100</td>\n",
       "      <td>Blindscythe</td>\n",
       "      <td>3.27</td>\n",
       "    </tr>\n",
       "    <tr>\n",
       "      <td>4</td>\n",
       "      <td>4</td>\n",
       "      <td>Iskosia90</td>\n",
       "      <td>23</td>\n",
       "      <td>Male</td>\n",
       "      <td>131</td>\n",
       "      <td>Fury</td>\n",
       "      <td>1.44</td>\n",
       "    </tr>\n",
       "  </tbody>\n",
       "</table>\n",
       "</div>"
      ],
      "text/plain": [
       "   Purchase ID             SN  Age Gender  Item ID  \\\n",
       "0            0        Lisim78   20   Male      108   \n",
       "1            1    Lisovynya38   40   Male      143   \n",
       "2            2     Ithergue48   24   Male       92   \n",
       "3            3  Chamassasya86   24   Male      100   \n",
       "4            4      Iskosia90   23   Male      131   \n",
       "\n",
       "                                   Item Name  Price  \n",
       "0  Extraction, Quickblade Of Trembling Hands   3.53  \n",
       "1                          Frenzied Scimitar   1.56  \n",
       "2                               Final Critic   4.88  \n",
       "3                                Blindscythe   3.27  \n",
       "4                                       Fury   1.44  "
      ]
     },
     "execution_count": 40,
     "metadata": {},
     "output_type": "execute_result"
    }
   ],
   "source": [
    "# Dependencies and Setup\n",
    "import pandas as pd\n",
    "import numpy as np\n",
    "\n",
    "# File to Load (Remember to Change These)\n",
    "file_to_load = \"Resources/purchase_data.csv\"\n",
    "\n",
    "# Read Purchasing File and store into Pandas data frame\n",
    "purchase_data = pd.read_csv(file_to_load)\n",
    "purchase_data.head()"
   ]
  },
  {
   "cell_type": "markdown",
   "metadata": {},
   "source": [
    "## Player Count"
   ]
  },
  {
   "cell_type": "markdown",
   "metadata": {},
   "source": [
    "* Display the total number of players\n"
   ]
  },
  {
   "cell_type": "code",
   "execution_count": 41,
   "metadata": {},
   "outputs": [
    {
     "data": {
      "text/html": [
       "<div>\n",
       "<style scoped>\n",
       "    .dataframe tbody tr th:only-of-type {\n",
       "        vertical-align: middle;\n",
       "    }\n",
       "\n",
       "    .dataframe tbody tr th {\n",
       "        vertical-align: top;\n",
       "    }\n",
       "\n",
       "    .dataframe thead th {\n",
       "        text-align: right;\n",
       "    }\n",
       "</style>\n",
       "<table border=\"1\" class=\"dataframe\">\n",
       "  <thead>\n",
       "    <tr style=\"text-align: right;\">\n",
       "      <th></th>\n",
       "      <th>Total Players</th>\n",
       "    </tr>\n",
       "  </thead>\n",
       "  <tbody>\n",
       "    <tr>\n",
       "      <td>0</td>\n",
       "      <td>576</td>\n",
       "    </tr>\n",
       "  </tbody>\n",
       "</table>\n",
       "</div>"
      ],
      "text/plain": [
       "   Total Players\n",
       "0            576"
      ]
     },
     "execution_count": 41,
     "metadata": {},
     "output_type": "execute_result"
    }
   ],
   "source": [
    "#Player Count\n",
    "player = len(purchase_data[\"SN\"].value_counts())\n",
    "player_count=pd.DataFrame([player],columns=[\"Total Players\"])\n",
    "player_count"
   ]
  },
  {
   "cell_type": "markdown",
   "metadata": {},
   "source": [
    "## Purchasing Analysis (Total)"
   ]
  },
  {
   "cell_type": "markdown",
   "metadata": {},
   "source": [
    "* Run basic calculations to obtain number of unique items, average price, etc.\n",
    "\n",
    "\n",
    "* Create a summary data frame to hold the results\n",
    "\n",
    "\n",
    "* Optional: give the displayed data cleaner formatting\n",
    "\n",
    "\n",
    "* Display the summary data frame\n"
   ]
  },
  {
   "cell_type": "code",
   "execution_count": 42,
   "metadata": {
    "scrolled": true
   },
   "outputs": [
    {
     "name": "stdout",
     "output_type": "stream",
     "text": [
      "183\n",
      "3.050987179487176\n",
      "780\n",
      "2379.77\n"
     ]
    }
   ],
   "source": [
    "unique_items = len(purchase_data[\"Item ID\"].unique())\n",
    "print(unique_items)\n",
    "\n",
    "avg_price = (purchase_data[\"Price\"].mean())\n",
    "print(avg_price)\n",
    "\n",
    "tot_purch = (purchase_data[\"Price\"].count())\n",
    "print(tot_purch)\n",
    "\n",
    "tot_rev = (purchase_data[\"Price\"].sum())\n",
    "print(tot_rev)\n"
   ]
  },
  {
   "cell_type": "code",
   "execution_count": 43,
   "metadata": {},
   "outputs": [
    {
     "data": {
      "text/html": [
       "<div>\n",
       "<style scoped>\n",
       "    .dataframe tbody tr th:only-of-type {\n",
       "        vertical-align: middle;\n",
       "    }\n",
       "\n",
       "    .dataframe tbody tr th {\n",
       "        vertical-align: top;\n",
       "    }\n",
       "\n",
       "    .dataframe thead th {\n",
       "        text-align: right;\n",
       "    }\n",
       "</style>\n",
       "<table border=\"1\" class=\"dataframe\">\n",
       "  <thead>\n",
       "    <tr style=\"text-align: right;\">\n",
       "      <th></th>\n",
       "      <th>Number of Unique Items</th>\n",
       "      <th>Average Price</th>\n",
       "      <th>Number of Purchases</th>\n",
       "      <th>Total Revenue</th>\n",
       "    </tr>\n",
       "  </thead>\n",
       "  <tbody>\n",
       "    <tr>\n",
       "      <td>0</td>\n",
       "      <td>183</td>\n",
       "      <td>$3.05</td>\n",
       "      <td>780</td>\n",
       "      <td>$2,379.77</td>\n",
       "    </tr>\n",
       "  </tbody>\n",
       "</table>\n",
       "</div>"
      ],
      "text/plain": [
       "   Number of Unique Items Average Price  Number of Purchases Total Revenue\n",
       "0                     183         $3.05                  780     $2,379.77"
      ]
     },
     "execution_count": 43,
     "metadata": {},
     "output_type": "execute_result"
    }
   ],
   "source": [
    "purch_analysis_tot = pd.DataFrame({\n",
    "    \"Number of Unique Items\":unique_items\n",
    "      ,\"Average Price\":[avg_price],\n",
    "    \"Number of Purchases\":[tot_purch],\n",
    "    \"Total Revenue\":[tot_rev]\n",
    "})\n",
    "\n",
    "purch_analysis_tot=purch_analysis_tot.round(2)\n",
    "purch_analysis_tot[\"Average Price\"]=purch_analysis_tot[\"Average Price\"].map(\"${:,.2f}\".format)\n",
    "purch_analysis_tot[\"Total Revenue\"]=purch_analysis_tot[\"Total Revenue\"].map(\"${:,.2f}\".format)\n",
    "purch_analysis_tot=purch_analysis_tot.loc[:,[\"Number of Unique Items\", \"Average Price\", \"Number of Purchases\", \"Total Revenue\"]]\n",
    "purch_analysis_tot"
   ]
  },
  {
   "cell_type": "markdown",
   "metadata": {},
   "source": [
    "## Gender Demographics"
   ]
  },
  {
   "cell_type": "markdown",
   "metadata": {},
   "source": [
    "* Percentage and Count of Male Players\n",
    "\n",
    "\n",
    "* Percentage and Count of Female Players\n",
    "\n",
    "\n",
    "* Percentage and Count of Other / Non-Disclosed\n",
    "\n",
    "\n"
   ]
  },
  {
   "cell_type": "code",
   "execution_count": 60,
   "metadata": {},
   "outputs": [
    {
     "data": {
      "text/plain": [
       "Male                     84.027778\n",
       "Female                   14.062500\n",
       "Other / Non-Disclosed     1.909722\n",
       "Name: Gender, dtype: float64"
      ]
     },
     "execution_count": 60,
     "metadata": {},
     "output_type": "execute_result"
    }
   ],
   "source": [
    "gender_demographics = purchase_data.loc[:,[\"Gender\",\"SN\",\"Age\"]]\n",
    "gender_demographics= gender_demographics.drop_duplicates()\n",
    "\n",
    "gender_demographics_totals= gender_demographics[\"Gender\"].value_counts()\n",
    "\n",
    "demographics_percent= gender_demographics_totals/player*100\n",
    "demographics_percent\n"
   ]
  },
  {
   "cell_type": "code",
   "execution_count": 61,
   "metadata": {},
   "outputs": [
    {
     "data": {
      "text/html": [
       "<div>\n",
       "<style scoped>\n",
       "    .dataframe tbody tr th:only-of-type {\n",
       "        vertical-align: middle;\n",
       "    }\n",
       "\n",
       "    .dataframe tbody tr th {\n",
       "        vertical-align: top;\n",
       "    }\n",
       "\n",
       "    .dataframe thead th {\n",
       "        text-align: right;\n",
       "    }\n",
       "</style>\n",
       "<table border=\"1\" class=\"dataframe\">\n",
       "  <thead>\n",
       "    <tr style=\"text-align: right;\">\n",
       "      <th></th>\n",
       "      <th>Total Count</th>\n",
       "      <th>Percentage of Players</th>\n",
       "    </tr>\n",
       "  </thead>\n",
       "  <tbody>\n",
       "    <tr>\n",
       "      <td>Male</td>\n",
       "      <td>484</td>\n",
       "      <td>84.027778</td>\n",
       "    </tr>\n",
       "    <tr>\n",
       "      <td>Female</td>\n",
       "      <td>81</td>\n",
       "      <td>14.062500</td>\n",
       "    </tr>\n",
       "    <tr>\n",
       "      <td>Other / Non-Disclosed</td>\n",
       "      <td>11</td>\n",
       "      <td>1.909722</td>\n",
       "    </tr>\n",
       "  </tbody>\n",
       "</table>\n",
       "</div>"
      ],
      "text/plain": [
       "                       Total Count  Percentage of Players\n",
       "Male                           484              84.027778\n",
       "Female                          81              14.062500\n",
       "Other / Non-Disclosed           11               1.909722"
      ]
     },
     "execution_count": 61,
     "metadata": {},
     "output_type": "execute_result"
    }
   ],
   "source": [
    "gender_demographics_totals=pd.DataFrame({\"Total Count\":gender_demographics_totals,\"Percentage of Players\":demographics_percent})\n",
    "gender_demographics_totals"
   ]
  },
  {
   "cell_type": "markdown",
   "metadata": {},
   "source": [
    "\n",
    "## Purchasing Analysis (Gender)"
   ]
  },
  {
   "cell_type": "markdown",
   "metadata": {},
   "source": [
    "* Run basic calculations to obtain purchase count, avg. purchase price, avg. purchase total per person etc. by gender\n",
    "\n",
    "\n",
    "\n",
    "\n",
    "* Create a summary data frame to hold the results\n",
    "\n",
    "\n",
    "* Optional: give the displayed data cleaner formatting\n",
    "\n",
    "\n",
    "* Display the summary data frame"
   ]
  },
  {
   "cell_type": "code",
   "execution_count": 86,
   "metadata": {},
   "outputs": [
    {
     "data": {
      "text/html": [
       "<div>\n",
       "<style scoped>\n",
       "    .dataframe tbody tr th:only-of-type {\n",
       "        vertical-align: middle;\n",
       "    }\n",
       "\n",
       "    .dataframe tbody tr th {\n",
       "        vertical-align: top;\n",
       "    }\n",
       "\n",
       "    .dataframe thead th {\n",
       "        text-align: right;\n",
       "    }\n",
       "</style>\n",
       "<table border=\"1\" class=\"dataframe\">\n",
       "  <thead>\n",
       "    <tr style=\"text-align: right;\">\n",
       "      <th></th>\n",
       "      <th>Purchase Count</th>\n",
       "      <th>Average Purchase Price</th>\n",
       "      <th>Total Purchase Price</th>\n",
       "      <th>Normalized Totals</th>\n",
       "    </tr>\n",
       "    <tr>\n",
       "      <th>Gender</th>\n",
       "      <th></th>\n",
       "      <th></th>\n",
       "      <th></th>\n",
       "      <th></th>\n",
       "    </tr>\n",
       "  </thead>\n",
       "  <tbody>\n",
       "    <tr>\n",
       "      <td>Female</td>\n",
       "      <td>113</td>\n",
       "      <td>3.203009</td>\n",
       "      <td>361.94</td>\n",
       "      <td>3.203009</td>\n",
       "    </tr>\n",
       "    <tr>\n",
       "      <td>Male</td>\n",
       "      <td>652</td>\n",
       "      <td>3.017853</td>\n",
       "      <td>1967.64</td>\n",
       "      <td>3.017853</td>\n",
       "    </tr>\n",
       "    <tr>\n",
       "      <td>Other / Non-Disclosed</td>\n",
       "      <td>15</td>\n",
       "      <td>3.346000</td>\n",
       "      <td>50.19</td>\n",
       "      <td>3.346000</td>\n",
       "    </tr>\n",
       "  </tbody>\n",
       "</table>\n",
       "</div>"
      ],
      "text/plain": [
       "                       Purchase Count  Average Purchase Price  \\\n",
       "Gender                                                          \n",
       "Female                            113                3.203009   \n",
       "Male                              652                3.017853   \n",
       "Other / Non-Disclosed              15                3.346000   \n",
       "\n",
       "                       Total Purchase Price  Normalized Totals  \n",
       "Gender                                                          \n",
       "Female                               361.94           3.203009  \n",
       "Male                                1967.64           3.017853  \n",
       "Other / Non-Disclosed                 50.19           3.346000  "
      ]
     },
     "execution_count": 86,
     "metadata": {},
     "output_type": "execute_result"
    }
   ],
   "source": [
    "all_gender_df = purchase_data.groupby('Gender')\n",
    "\n",
    "player_count = all_gender_df['SN'].count()\n",
    "player_count_df = pd.DataFrame(player_count)\n",
    "\n",
    "avg_price = all_gender_df['Price'].mean()\n",
    "\n",
    "total_gender_purchase = all_gender_df['Price'].sum()\n",
    "\n",
    "norm_total = total_gender_purchase / player_count\n",
    "\n",
    "player_count_df['Average Purchase Price'] = avg_price\n",
    "gender_purchase_df = pd.DataFrame(player_count_df)\n",
    "\n",
    "new_gender_purchase_df = gender_purchase_df.rename(columns={\n",
    "    'SN': 'Purchase Count',\n",
    "})\n",
    "\n",
    "new_gender_purchase_df['Total Purchase Price'] = total_gender_purchase\n",
    "new_gender_purchase2_df = pd.DataFrame(new_gender_purchase_df)\n",
    "\n",
    "new_gender_purchase2_df['Normalized Totals'] = norm_total\n",
    "total_gender_purchase_df = pd.DataFrame(new_gender_purchase2_df)\n",
    "total_gender_purchase_df"
   ]
  },
  {
   "cell_type": "markdown",
   "metadata": {},
   "source": [
    "## Age Demographics"
   ]
  },
  {
   "cell_type": "markdown",
   "metadata": {},
   "source": [
    "* Establish bins for ages\n",
    "\n",
    "\n",
    "* Categorize the existing players using the age bins. Hint: use pd.cut()\n",
    "\n",
    "\n",
    "* Calculate the numbers and percentages by age group\n",
    "\n",
    "\n",
    "* Create a summary data frame to hold the results\n",
    "\n",
    "\n",
    "* Optional: round the percentage column to two decimal points\n",
    "\n",
    "\n",
    "* Display Age Demographics Table\n"
   ]
  },
  {
   "cell_type": "code",
   "execution_count": 124,
   "metadata": {},
   "outputs": [
    {
     "data": {
      "text/html": [
       "<div>\n",
       "<style scoped>\n",
       "    .dataframe tbody tr th:only-of-type {\n",
       "        vertical-align: middle;\n",
       "    }\n",
       "\n",
       "    .dataframe tbody tr th {\n",
       "        vertical-align: top;\n",
       "    }\n",
       "\n",
       "    .dataframe thead th {\n",
       "        text-align: right;\n",
       "    }\n",
       "</style>\n",
       "<table border=\"1\" class=\"dataframe\">\n",
       "  <thead>\n",
       "    <tr style=\"text-align: right;\">\n",
       "      <th></th>\n",
       "      <th>Total Count</th>\n",
       "      <th>Percentage of Players</th>\n",
       "    </tr>\n",
       "  </thead>\n",
       "  <tbody>\n",
       "    <tr>\n",
       "      <td>&lt;10</td>\n",
       "      <td>17</td>\n",
       "      <td>2.95</td>\n",
       "    </tr>\n",
       "    <tr>\n",
       "      <td>10-14</td>\n",
       "      <td>22</td>\n",
       "      <td>3.82</td>\n",
       "    </tr>\n",
       "    <tr>\n",
       "      <td>15-19</td>\n",
       "      <td>107</td>\n",
       "      <td>18.58</td>\n",
       "    </tr>\n",
       "    <tr>\n",
       "      <td>20-24</td>\n",
       "      <td>258</td>\n",
       "      <td>44.79</td>\n",
       "    </tr>\n",
       "    <tr>\n",
       "      <td>25-29</td>\n",
       "      <td>77</td>\n",
       "      <td>13.37</td>\n",
       "    </tr>\n",
       "    <tr>\n",
       "      <td>30-34</td>\n",
       "      <td>52</td>\n",
       "      <td>9.03</td>\n",
       "    </tr>\n",
       "    <tr>\n",
       "      <td>35-39</td>\n",
       "      <td>31</td>\n",
       "      <td>5.38</td>\n",
       "    </tr>\n",
       "    <tr>\n",
       "      <td>40+</td>\n",
       "      <td>12</td>\n",
       "      <td>2.08</td>\n",
       "    </tr>\n",
       "  </tbody>\n",
       "</table>\n",
       "</div>"
      ],
      "text/plain": [
       "       Total Count  Percentage of Players\n",
       "<10             17                   2.95\n",
       "10-14           22                   3.82\n",
       "15-19          107                  18.58\n",
       "20-24          258                  44.79\n",
       "25-29           77                  13.37\n",
       "30-34           52                   9.03\n",
       "35-39           31                   5.38\n",
       "40+             12                   2.08"
      ]
     },
     "execution_count": 124,
     "metadata": {},
     "output_type": "execute_result"
    }
   ],
   "source": [
    "age_bins = [0,9.9,14.9,19.9,24.9,29.9,34.9,39.9,9999]\n",
    "group_brackets = [\"<10\",\"10-14\",\"15-19\",\"20-24\",\"25-29\",\"30-34\",\"35-39\",\"40+\"]\n",
    "\n",
    "player_demographics[\"Age Ranges\"] = pd.cut(player_demographics[\"Age\"], age_bins, labels = group_brackets)\n",
    "\n",
    "age_demographics_totals = player_demographics[\"Age Ranges\"].value_counts()\n",
    "\n",
    "age_demographics_percents = age_demographics_totals / player * 100\n",
    "\n",
    "age_demographics = pd.DataFrame({\"Total Count\": age_demographics_totals, \"Percentage of Players\": age_demographics_percents})\n",
    "\n",
    "age_demographics = age_demographics.round(2)\n",
    "\n",
    "age_demographics.sort_index()"
   ]
  },
  {
   "cell_type": "markdown",
   "metadata": {},
   "source": [
    "## Purchasing Analysis (Age)"
   ]
  },
  {
   "cell_type": "markdown",
   "metadata": {},
   "source": [
    "* Bin the purchase_data data frame by age\n",
    "\n",
    "\n",
    "* Run basic calculations to obtain purchase count, avg. purchase price, avg. purchase total per person etc. in the table below\n",
    "\n",
    "\n",
    "* Create a summary data frame to hold the results\n",
    "\n",
    "\n",
    "* Optional: give the displayed data cleaner formatting\n",
    "\n",
    "\n",
    "* Display the summary data frame"
   ]
  },
  {
   "cell_type": "code",
   "execution_count": 144,
   "metadata": {},
   "outputs": [
    {
     "ename": "SyntaxError",
     "evalue": "invalid syntax (<ipython-input-144-562362214c60>, line 3)",
     "output_type": "error",
     "traceback": [
      "\u001b[0;36m  File \u001b[0;32m\"<ipython-input-144-562362214c60>\"\u001b[0;36m, line \u001b[0;32m3\u001b[0m\n\u001b[0;31m    age_purchases = purchase_data.groupby([\"Age Ranges\"]).sum()[\"Price\"].rename(\"Total Purchase Value\")\u001b[0m\n\u001b[0m                ^\u001b[0m\n\u001b[0;31mSyntaxError\u001b[0m\u001b[0;31m:\u001b[0m invalid syntax\n"
     ]
    }
   ],
   "source": [
    "purchase_data[\"Age Ranges\"]= pd.cut(purchase_data[\"Age\"], age_bins, labels = group_brackets()\n",
    "\n",
    "age_purchases = purchase_data.groupby([\"Age Ranges\"]).sum()[\"Price\"].rename(\"Total Purchase Value\")\n",
    "\n",
    "age_average = purchase_data.groupby([\"Age Ranges\"]).mean()[\"Price\"].rename(\"Average Purchase Price\")\n",
    "\n",
    "age_counts = purchase_data.groupby([\"Age Ranges\"]).count()[\"Price\"].rename(\"Purchase Count\")\n",
    "\n",
    "normalized_total= age_purchases_total / age_demographics[\"Total Count\"]\n",
    "\n",
    "age_data = pd.DataFrame({\"Purchase Count\": age_counts, \"Average Purchase Price\": age_average, \"Total Purchase Value\": age_purchases_total,\"Normalized Totals\": normalized_total})\n",
    "\n",
    "age_data[\"Average Purchase Price\"] = age_data[\"Average Purchase Price\"].map(\"${:,.2f}\".format)\n",
    "age_data[\"Total Purchase Value\"] = age_data[\"Total Purchase Value\"].map(\"${:,.2f}\".format)\n",
    "age_data[\"Purchase Count\"] = age_data[\"Purchase Count\"].map(\"{:,}\".format)\n",
    "age_data[\"Normalized Totals\"] = age_data[\"Normalized Totals\"].map(\"${:,.2f}\".format)\n",
    "age_data = age_data.loc[:,[\"Purchase Count\",\"Average Purchase Price\",\"Total Purchase Value\",\"Normalized Totals\"]]\n",
    "age_data"
   ]
  },
  {
   "cell_type": "markdown",
   "metadata": {},
   "source": [
    "## Top Spenders"
   ]
  },
  {
   "cell_type": "markdown",
   "metadata": {},
   "source": [
    "* Run basic calculations to obtain the results in the table below\n",
    "\n",
    "\n",
    "* Create a summary data frame to hold the results\n",
    "\n",
    "\n",
    "* Sort the total purchase value column in descending order\n",
    "\n",
    "\n",
    "* Optional: give the displayed data cleaner formatting\n",
    "\n",
    "\n",
    "* Display a preview of the summary data frame\n",
    "\n"
   ]
  },
  {
   "cell_type": "code",
   "execution_count": 136,
   "metadata": {},
   "outputs": [
    {
     "data": {
      "text/html": [
       "<div>\n",
       "<style scoped>\n",
       "    .dataframe tbody tr th:only-of-type {\n",
       "        vertical-align: middle;\n",
       "    }\n",
       "\n",
       "    .dataframe tbody tr th {\n",
       "        vertical-align: top;\n",
       "    }\n",
       "\n",
       "    .dataframe thead th {\n",
       "        text-align: right;\n",
       "    }\n",
       "</style>\n",
       "<table border=\"1\" class=\"dataframe\">\n",
       "  <thead>\n",
       "    <tr style=\"text-align: right;\">\n",
       "      <th></th>\n",
       "      <th>Purchase Count</th>\n",
       "      <th>Average Purchase Price</th>\n",
       "      <th>Total Purchase Value</th>\n",
       "    </tr>\n",
       "    <tr>\n",
       "      <th>SN</th>\n",
       "      <th></th>\n",
       "      <th></th>\n",
       "      <th></th>\n",
       "    </tr>\n",
       "  </thead>\n",
       "  <tbody>\n",
       "    <tr>\n",
       "      <td>Haillyrgue51</td>\n",
       "      <td>3</td>\n",
       "      <td>$3.17</td>\n",
       "      <td>$9.50</td>\n",
       "    </tr>\n",
       "    <tr>\n",
       "      <td>Phistym51</td>\n",
       "      <td>2</td>\n",
       "      <td>$4.75</td>\n",
       "      <td>$9.50</td>\n",
       "    </tr>\n",
       "    <tr>\n",
       "      <td>Lamil79</td>\n",
       "      <td>2</td>\n",
       "      <td>$4.64</td>\n",
       "      <td>$9.29</td>\n",
       "    </tr>\n",
       "    <tr>\n",
       "      <td>Aina42</td>\n",
       "      <td>3</td>\n",
       "      <td>$3.07</td>\n",
       "      <td>$9.22</td>\n",
       "    </tr>\n",
       "    <tr>\n",
       "      <td>Saesrideu94</td>\n",
       "      <td>2</td>\n",
       "      <td>$4.59</td>\n",
       "      <td>$9.18</td>\n",
       "    </tr>\n",
       "  </tbody>\n",
       "</table>\n",
       "</div>"
      ],
      "text/plain": [
       "              Purchase Count Average Purchase Price Total Purchase Value\n",
       "SN                                                                      \n",
       "Haillyrgue51               3                  $3.17                $9.50\n",
       "Phistym51                  2                  $4.75                $9.50\n",
       "Lamil79                    2                  $4.64                $9.29\n",
       "Aina42                     3                  $3.07                $9.22\n",
       "Saesrideu94                2                  $4.59                $9.18"
      ]
     },
     "execution_count": 136,
     "metadata": {},
     "output_type": "execute_result"
    }
   ],
   "source": [
    "user_total = purchase_data.groupby([\"SN\"]).sum()[\"Price\"].rename(\"Total Purchase Value\")\n",
    "user_average = purchase_data.groupby([\"SN\"]).mean()[\"Price\"].rename(\"Average Purchase Price\")\n",
    "user_count = purchase_data.groupby([\"SN\"]).count()[\"Price\"].rename(\"Purchase Count\")\n",
    "\n",
    "user_data = pd.DataFrame({\"Total Purchase Value\": user_total, \"Average Purchase Price\": user_average, \"Purchase Count\": user_count})\n",
    "\n",
    "user_data[\"Average Purchase Price\"]=user_data[\"Average Purchase Price\"].map(\"${:,.2f}\".format)\n",
    "user_data[\"Total Purchase Value\"]=user_data[\"Total Purchase Value\"].map(\"${:,.2f}\".format)\n",
    "user_data= user_data.loc[:,[\"Purchase Count\",\"Average Purchase Price\",\"Total Purchase Value\"]]\n",
    "\n",
    "user_data.sort_values(\"Total Purchase Value\", ascending=False).head(5)\n"
   ]
  },
  {
   "cell_type": "markdown",
   "metadata": {},
   "source": [
    "## Most Popular Items"
   ]
  },
  {
   "cell_type": "markdown",
   "metadata": {},
   "source": [
    "* Retrieve the Item ID, Item Name, and Item Price columns\n",
    "\n",
    "\n",
    "* Group by Item ID and Item Name. Perform calculations to obtain purchase count, item price, and total purchase value\n",
    "\n",
    "\n",
    "* Create a summary data frame to hold the results\n",
    "\n",
    "\n",
    "* Sort the purchase count column in descending order\n",
    "\n",
    "\n",
    "* Optional: give the displayed data cleaner formatting\n",
    "\n",
    "\n",
    "* Display a preview of the summary data frame\n",
    "\n"
   ]
  },
  {
   "cell_type": "code",
   "execution_count": 139,
   "metadata": {},
   "outputs": [
    {
     "data": {
      "text/html": [
       "<style  type=\"text/css\" >\n",
       "</style><table id=\"T_e68ae990_2d6e_11ea_933b_8c8590bcc97f\" ><thead>    <tr>        <th class=\"blank\" ></th>        <th class=\"blank level0\" ></th>        <th class=\"col_heading level0 col0\" >Purchase Count</th>        <th class=\"col_heading level0 col1\" >Item Price</th>        <th class=\"col_heading level0 col2\" >Total Purchase Value</th>    </tr>    <tr>        <th class=\"index_name level0\" >Item Name</th>        <th class=\"index_name level1\" >Item ID</th>        <th class=\"blank\" ></th>        <th class=\"blank\" ></th>        <th class=\"blank\" ></th>    </tr></thead><tbody>\n",
       "                <tr>\n",
       "                        <th id=\"T_e68ae990_2d6e_11ea_933b_8c8590bcc97flevel0_row0\" class=\"row_heading level0 row0\" >Oathbreaker, Last Hope of the Breaking Storm</th>\n",
       "                        <th id=\"T_e68ae990_2d6e_11ea_933b_8c8590bcc97flevel1_row0\" class=\"row_heading level1 row0\" >178</th>\n",
       "                        <td id=\"T_e68ae990_2d6e_11ea_933b_8c8590bcc97frow0_col0\" class=\"data row0 col0\" >12</td>\n",
       "                        <td id=\"T_e68ae990_2d6e_11ea_933b_8c8590bcc97frow0_col1\" class=\"data row0 col1\" >$4.23</td>\n",
       "                        <td id=\"T_e68ae990_2d6e_11ea_933b_8c8590bcc97frow0_col2\" class=\"data row0 col2\" >50.76</td>\n",
       "            </tr>\n",
       "            <tr>\n",
       "                        <th id=\"T_e68ae990_2d6e_11ea_933b_8c8590bcc97flevel0_row1\" class=\"row_heading level0 row1\" >Nirvana</th>\n",
       "                        <th id=\"T_e68ae990_2d6e_11ea_933b_8c8590bcc97flevel1_row1\" class=\"row_heading level1 row1\" >82</th>\n",
       "                        <td id=\"T_e68ae990_2d6e_11ea_933b_8c8590bcc97frow1_col0\" class=\"data row1 col0\" >9</td>\n",
       "                        <td id=\"T_e68ae990_2d6e_11ea_933b_8c8590bcc97frow1_col1\" class=\"data row1 col1\" >$4.90</td>\n",
       "                        <td id=\"T_e68ae990_2d6e_11ea_933b_8c8590bcc97frow1_col2\" class=\"data row1 col2\" >44.1</td>\n",
       "            </tr>\n",
       "            <tr>\n",
       "                        <th id=\"T_e68ae990_2d6e_11ea_933b_8c8590bcc97flevel0_row2\" class=\"row_heading level0 row2\" >Fiery Glass Crusader</th>\n",
       "                        <th id=\"T_e68ae990_2d6e_11ea_933b_8c8590bcc97flevel1_row2\" class=\"row_heading level1 row2\" >145</th>\n",
       "                        <td id=\"T_e68ae990_2d6e_11ea_933b_8c8590bcc97frow2_col0\" class=\"data row2 col0\" >9</td>\n",
       "                        <td id=\"T_e68ae990_2d6e_11ea_933b_8c8590bcc97frow2_col1\" class=\"data row2 col1\" >$4.58</td>\n",
       "                        <td id=\"T_e68ae990_2d6e_11ea_933b_8c8590bcc97frow2_col2\" class=\"data row2 col2\" >41.22</td>\n",
       "            </tr>\n",
       "            <tr>\n",
       "                        <th id=\"T_e68ae990_2d6e_11ea_933b_8c8590bcc97flevel0_row3\" class=\"row_heading level0 row3\" >Extraction, Quickblade Of Trembling Hands</th>\n",
       "                        <th id=\"T_e68ae990_2d6e_11ea_933b_8c8590bcc97flevel1_row3\" class=\"row_heading level1 row3\" >108</th>\n",
       "                        <td id=\"T_e68ae990_2d6e_11ea_933b_8c8590bcc97frow3_col0\" class=\"data row3 col0\" >9</td>\n",
       "                        <td id=\"T_e68ae990_2d6e_11ea_933b_8c8590bcc97frow3_col1\" class=\"data row3 col1\" >$3.53</td>\n",
       "                        <td id=\"T_e68ae990_2d6e_11ea_933b_8c8590bcc97frow3_col2\" class=\"data row3 col2\" >31.77</td>\n",
       "            </tr>\n",
       "            <tr>\n",
       "                        <th id=\"T_e68ae990_2d6e_11ea_933b_8c8590bcc97flevel0_row4\" class=\"row_heading level0 row4\" >Singed Scalpel</th>\n",
       "                        <th id=\"T_e68ae990_2d6e_11ea_933b_8c8590bcc97flevel1_row4\" class=\"row_heading level1 row4\" >103</th>\n",
       "                        <td id=\"T_e68ae990_2d6e_11ea_933b_8c8590bcc97frow4_col0\" class=\"data row4 col0\" >8</td>\n",
       "                        <td id=\"T_e68ae990_2d6e_11ea_933b_8c8590bcc97frow4_col1\" class=\"data row4 col1\" >$4.35</td>\n",
       "                        <td id=\"T_e68ae990_2d6e_11ea_933b_8c8590bcc97frow4_col2\" class=\"data row4 col2\" >34.8</td>\n",
       "            </tr>\n",
       "            <tr>\n",
       "                        <th id=\"T_e68ae990_2d6e_11ea_933b_8c8590bcc97flevel0_row5\" class=\"row_heading level0 row5\" >Wolf</th>\n",
       "                        <th id=\"T_e68ae990_2d6e_11ea_933b_8c8590bcc97flevel1_row5\" class=\"row_heading level1 row5\" >60</th>\n",
       "                        <td id=\"T_e68ae990_2d6e_11ea_933b_8c8590bcc97frow5_col0\" class=\"data row5 col0\" >8</td>\n",
       "                        <td id=\"T_e68ae990_2d6e_11ea_933b_8c8590bcc97frow5_col1\" class=\"data row5 col1\" >$3.54</td>\n",
       "                        <td id=\"T_e68ae990_2d6e_11ea_933b_8c8590bcc97frow5_col2\" class=\"data row5 col2\" >28.32</td>\n",
       "            </tr>\n",
       "    </tbody></table>"
      ],
      "text/plain": [
       "<pandas.io.formats.style.Styler at 0x116fd6110>"
      ]
     },
     "execution_count": 139,
     "metadata": {},
     "output_type": "execute_result"
    }
   ],
   "source": [
    "premerge_one=purchase_data.groupby(\"Item Name\").sum().reset_index()\n",
    "premerge_two=purchase_data.groupby(\"Item ID\").sum().reset_index()\n",
    "premerge_three=purchase_data.groupby(\"Item Name\").count().reset_index()\n",
    "\n",
    "merge_one=pd.merge(premerge_one,premerge_two, on=\"Price\")\n",
    "merge_two=pd.merge(premerge_three,merge_one, on=\"Item Name\")\n",
    "\n",
    "merge_two[\"Gender\"]=(merge_two[\"Price_y\"]/merge_two[\"Item ID\"]).round(2)\n",
    "\n",
    "merge_two_new=merge_two.rename(columns={\"Age\":\"Purchase Count\",\"Gender\":\"Item Price\",\"Item ID\":\"null\",\"Price_y\":\"Total Purchase Value\",\"Item ID_y\":\"Item ID\"})\n",
    "\n",
    "clean_df=merge_two_new[[\"Item ID\",\"Item Name\",\"Purchase Count\",\"Item Price\",\"Total Purchase Value\"]]\n",
    "\n",
    "prefinal_df=clean_df.set_index(['Item Name','Item ID'])\n",
    "popular_items_final=prefinal_df.sort_values('Purchase Count', ascending=False).head(6)\n",
    "popular_items_final.style.format({\"Item Price\":\"${:.2f}\",\"Total Purchase\":\"${:.2f}\"})"
   ]
  },
  {
   "cell_type": "markdown",
   "metadata": {},
   "source": [
    "## Most Profitable Items"
   ]
  },
  {
   "cell_type": "markdown",
   "metadata": {},
   "source": [
    "* Sort the above table by total purchase value in descending order\n",
    "\n",
    "\n",
    "* Optional: give the displayed data cleaner formatting\n",
    "\n",
    "\n",
    "* Display a preview of the data frame\n",
    "\n"
   ]
  },
  {
   "cell_type": "code",
   "execution_count": 141,
   "metadata": {
    "scrolled": true
   },
   "outputs": [
    {
     "data": {
      "text/html": [
       "<style  type=\"text/css\" >\n",
       "</style><table id=\"T_96dfaa24_2d6f_11ea_933b_8c8590bcc97f\" ><thead>    <tr>        <th class=\"blank\" ></th>        <th class=\"blank level0\" ></th>        <th class=\"col_heading level0 col0\" >Purchase Count</th>        <th class=\"col_heading level0 col1\" >Item Price</th>        <th class=\"col_heading level0 col2\" >Total Purchase Value</th>    </tr>    <tr>        <th class=\"index_name level0\" >Item Name</th>        <th class=\"index_name level1\" >Item ID</th>        <th class=\"blank\" ></th>        <th class=\"blank\" ></th>        <th class=\"blank\" ></th>    </tr></thead><tbody>\n",
       "                <tr>\n",
       "                        <th id=\"T_96dfaa24_2d6f_11ea_933b_8c8590bcc97flevel0_row0\" class=\"row_heading level0 row0\" >Oathbreaker, Last Hope of the Breaking Storm</th>\n",
       "                        <th id=\"T_96dfaa24_2d6f_11ea_933b_8c8590bcc97flevel1_row0\" class=\"row_heading level1 row0\" >178</th>\n",
       "                        <td id=\"T_96dfaa24_2d6f_11ea_933b_8c8590bcc97frow0_col0\" class=\"data row0 col0\" >12</td>\n",
       "                        <td id=\"T_96dfaa24_2d6f_11ea_933b_8c8590bcc97frow0_col1\" class=\"data row0 col1\" >$4.23</td>\n",
       "                        <td id=\"T_96dfaa24_2d6f_11ea_933b_8c8590bcc97frow0_col2\" class=\"data row0 col2\" >$50.76</td>\n",
       "            </tr>\n",
       "            <tr>\n",
       "                        <th id=\"T_96dfaa24_2d6f_11ea_933b_8c8590bcc97flevel0_row1\" class=\"row_heading level0 row1\" >Nirvana</th>\n",
       "                        <th id=\"T_96dfaa24_2d6f_11ea_933b_8c8590bcc97flevel1_row1\" class=\"row_heading level1 row1\" >82</th>\n",
       "                        <td id=\"T_96dfaa24_2d6f_11ea_933b_8c8590bcc97frow1_col0\" class=\"data row1 col0\" >9</td>\n",
       "                        <td id=\"T_96dfaa24_2d6f_11ea_933b_8c8590bcc97frow1_col1\" class=\"data row1 col1\" >$4.90</td>\n",
       "                        <td id=\"T_96dfaa24_2d6f_11ea_933b_8c8590bcc97frow1_col2\" class=\"data row1 col2\" >$44.10</td>\n",
       "            </tr>\n",
       "            <tr>\n",
       "                        <th id=\"T_96dfaa24_2d6f_11ea_933b_8c8590bcc97flevel0_row2\" class=\"row_heading level0 row2\" >Fiery Glass Crusader</th>\n",
       "                        <th id=\"T_96dfaa24_2d6f_11ea_933b_8c8590bcc97flevel1_row2\" class=\"row_heading level1 row2\" >145</th>\n",
       "                        <td id=\"T_96dfaa24_2d6f_11ea_933b_8c8590bcc97frow2_col0\" class=\"data row2 col0\" >9</td>\n",
       "                        <td id=\"T_96dfaa24_2d6f_11ea_933b_8c8590bcc97frow2_col1\" class=\"data row2 col1\" >$4.58</td>\n",
       "                        <td id=\"T_96dfaa24_2d6f_11ea_933b_8c8590bcc97frow2_col2\" class=\"data row2 col2\" >$41.22</td>\n",
       "            </tr>\n",
       "            <tr>\n",
       "                        <th id=\"T_96dfaa24_2d6f_11ea_933b_8c8590bcc97flevel0_row3\" class=\"row_heading level0 row3\" >Singed Scalpel</th>\n",
       "                        <th id=\"T_96dfaa24_2d6f_11ea_933b_8c8590bcc97flevel1_row3\" class=\"row_heading level1 row3\" >103</th>\n",
       "                        <td id=\"T_96dfaa24_2d6f_11ea_933b_8c8590bcc97frow3_col0\" class=\"data row3 col0\" >8</td>\n",
       "                        <td id=\"T_96dfaa24_2d6f_11ea_933b_8c8590bcc97frow3_col1\" class=\"data row3 col1\" >$4.35</td>\n",
       "                        <td id=\"T_96dfaa24_2d6f_11ea_933b_8c8590bcc97frow3_col2\" class=\"data row3 col2\" >$34.80</td>\n",
       "            </tr>\n",
       "            <tr>\n",
       "                        <th id=\"T_96dfaa24_2d6f_11ea_933b_8c8590bcc97flevel0_row4\" class=\"row_heading level0 row4\" >Lightning, Etcher of the King</th>\n",
       "                        <th id=\"T_96dfaa24_2d6f_11ea_933b_8c8590bcc97flevel1_row4\" class=\"row_heading level1 row4\" >59</th>\n",
       "                        <td id=\"T_96dfaa24_2d6f_11ea_933b_8c8590bcc97frow4_col0\" class=\"data row4 col0\" >8</td>\n",
       "                        <td id=\"T_96dfaa24_2d6f_11ea_933b_8c8590bcc97frow4_col1\" class=\"data row4 col1\" >$4.23</td>\n",
       "                        <td id=\"T_96dfaa24_2d6f_11ea_933b_8c8590bcc97frow4_col2\" class=\"data row4 col2\" >$33.84</td>\n",
       "            </tr>\n",
       "    </tbody></table>"
      ],
      "text/plain": [
       "<pandas.io.formats.style.Styler at 0x11667fe10>"
      ]
     },
     "execution_count": 141,
     "metadata": {},
     "output_type": "execute_result"
    }
   ],
   "source": [
    "profit_items=prefinal_df.sort_values('Total Purchase Value', ascending=False).head()\n",
    "profit_items.style.format({\"Item Price\":\"${:.2f}\",\"Total Purchase Value\":\"${:.2f}\"})"
   ]
  },
  {
   "cell_type": "code",
   "execution_count": null,
   "metadata": {},
   "outputs": [],
   "source": []
  }
 ],
 "metadata": {
  "anaconda-cloud": {},
  "kernel_info": {
   "name": "python3"
  },
  "kernelspec": {
   "display_name": "Python 3",
   "language": "python",
   "name": "python3"
  },
  "language_info": {
   "codemirror_mode": {
    "name": "ipython",
    "version": 3
   },
   "file_extension": ".py",
   "mimetype": "text/x-python",
   "name": "python",
   "nbconvert_exporter": "python",
   "pygments_lexer": "ipython3",
   "version": "3.7.4"
  },
  "latex_envs": {
   "LaTeX_envs_menu_present": true,
   "autoclose": false,
   "autocomplete": true,
   "bibliofile": "biblio.bib",
   "cite_by": "apalike",
   "current_citInitial": 1,
   "eqLabelWithNumbers": true,
   "eqNumInitial": 1,
   "hotkeys": {
    "equation": "Ctrl-E",
    "itemize": "Ctrl-I"
   },
   "labels_anchors": false,
   "latex_user_defs": false,
   "report_style_numbering": false,
   "user_envs_cfg": false
  },
  "nteract": {
   "version": "0.2.0"
  }
 },
 "nbformat": 4,
 "nbformat_minor": 2
}
